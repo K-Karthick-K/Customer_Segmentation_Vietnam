{
  "nbformat": 4,
  "nbformat_minor": 0,
  "metadata": {
    "colab": {
      "provenance": []
    },
    "kernelspec": {
      "name": "python3",
      "display_name": "Python 3"
    },
    "language_info": {
      "name": "python"
    }
  },
  "cells": [
    {
      "cell_type": "code",
      "execution_count": 1,
      "metadata": {
        "colab": {
          "base_uri": "https://localhost:8080/"
        },
        "id": "gUuhGOCogTlE",
        "outputId": "66770fcb-ca54-43cb-ae13-84db8fd0237a"
      },
      "outputs": [
        {
          "output_type": "stream",
          "name": "stdout",
          "text": [
            "    Invoice_ID Branch       City Customer_type  Gender  \\\n",
            "0  750-67-8428      A     Yangon        Member  Female   \n",
            "1  226-31-3081      C  Naypyitaw        Normal  Female   \n",
            "2  631-41-3108      A     Yangon        Normal    Male   \n",
            "3  123-19-1176      A     Yangon        Member    Male   \n",
            "4  373-73-7910      A     Yangon        Normal    Male   \n",
            "\n",
            "             Product_line  Unit_price  Quantity   Tax_5%     Total       Date  \\\n",
            "0       Health and beauty       74.69         7  26.1415  548.9715   01-05-19   \n",
            "1  Electronic accessories       15.28         5   3.8200   80.2200   03-08-19   \n",
            "2      Home and lifestyle       46.33         7  16.2155  340.5255   03-03-19   \n",
            "3       Health and beauty       58.22         8  23.2880  489.0480  1/27/2019   \n",
            "4       Sports and travel       86.31         7  30.2085  634.3785   02-08-19   \n",
            "\n",
            "    Time      Payment    cogs  gross_margin_percentage  gross_income  Rating  \n",
            "0  13:08      Ewallet  522.83                 4.761905       26.1415     9.1  \n",
            "1  10:29         Cash   76.40                 4.761905        3.8200     9.6  \n",
            "2  13:23  Credit card  324.31                 4.761905       16.2155     7.4  \n",
            "3  20:33      Ewallet  465.76                 4.761905       23.2880     8.4  \n",
            "4  10:37      Ewallet  604.17                 4.761905       30.2085     5.3  \n"
          ]
        }
      ],
      "source": [
        "import sqlite3\n",
        "import pandas as pd\n",
        "\n",
        "# Load CSV file into Pandas DataFrame\n",
        "file_path = \"/content/sales.csv\"  # Adjust if needed\n",
        "df = pd.read_csv(file_path)\n",
        "\n",
        "# Connect to SQLite (Creates a database in memory)\n",
        "conn = sqlite3.connect(\"salesdb.sqlite\")\n",
        "\n",
        "# Import the CSV data into a SQL table\n",
        "df.to_sql(\"SalesTable\", conn, if_exists=\"replace\", index=False)\n",
        "\n",
        "# Check if data is loaded\n",
        "query = \"SELECT * FROM SalesTable LIMIT 5\"\n",
        "result = pd.read_sql(query, conn)\n",
        "print(result)\n"
      ]
    },
    {
      "cell_type": "code",
      "source": [
        "query = \"PRAGMA table_info(SalesTable);\"\n",
        "result = pd.read_sql(query, conn)\n",
        "print(result)\n"
      ],
      "metadata": {
        "colab": {
          "base_uri": "https://localhost:8080/"
        },
        "id": "QuhC6KplgjWO",
        "outputId": "90baba74-e347-4b2d-8977-8f6f04d124c9"
      },
      "execution_count": 6,
      "outputs": [
        {
          "output_type": "stream",
          "name": "stdout",
          "text": [
            "    cid                     name     type  notnull dflt_value  pk\n",
            "0     0               Invoice_ID     TEXT        0       None   0\n",
            "1     1                   Branch     TEXT        0       None   0\n",
            "2     2                     City     TEXT        0       None   0\n",
            "3     3            Customer_type     TEXT        0       None   0\n",
            "4     4                   Gender     TEXT        0       None   0\n",
            "5     5             Product_line     TEXT        0       None   0\n",
            "6     6               Unit_price     REAL        0       None   0\n",
            "7     7                 Quantity  INTEGER        0       None   0\n",
            "8     8                   Tax_5%     REAL        0       None   0\n",
            "9     9                    Total     REAL        0       None   0\n",
            "10   10                     Date     TEXT        0       None   0\n",
            "11   11                     Time     TEXT        0       None   0\n",
            "12   12                  Payment     TEXT        0       None   0\n",
            "13   13                     cogs     REAL        0       None   0\n",
            "14   14  gross_margin_percentage     REAL        0       None   0\n",
            "15   15             gross_income     REAL        0       None   0\n",
            "16   16                   Rating     REAL        0       None   0\n"
          ]
        }
      ]
    },
    {
      "cell_type": "code",
      "source": [
        "query = \"\"\"\n",
        "SELECT Customer_type, SUM(Total) AS TotalSpent\n",
        "FROM SalesTable\n",
        "GROUP BY Customer_type\n",
        "ORDER BY TotalSpent DESC;\n",
        "\"\"\"\n",
        "result = pd.read_sql(query, conn)\n",
        "print(result)\n"
      ],
      "metadata": {
        "colab": {
          "base_uri": "https://localhost:8080/"
        },
        "id": "7hdIoxdphCHY",
        "outputId": "1b0194bf-e108-486c-892e-58810d288000"
      },
      "execution_count": 8,
      "outputs": [
        {
          "output_type": "stream",
          "name": "stdout",
          "text": [
            "  Customer_type  TotalSpent\n",
            "0        Member  164223.444\n",
            "1        Normal  158743.305\n"
          ]
        }
      ]
    },
    {
      "cell_type": "code",
      "source": [
        "query = \"\"\"\n",
        "SELECT Customer_type, COUNT(DISTINCT Invoice_ID) AS PurchaseFrequency\n",
        "FROM SalesTable\n",
        "GROUP BY Customer_type\n",
        "ORDER BY PurchaseFrequency DESC;\n",
        "\"\"\"\n",
        "result = pd.read_sql(query, conn)\n",
        "print(result)\n"
      ],
      "metadata": {
        "colab": {
          "base_uri": "https://localhost:8080/"
        },
        "id": "Hyjbu17ehpLM",
        "outputId": "1314babc-721c-4e64-9b17-0e28e7a481e1"
      },
      "execution_count": 9,
      "outputs": [
        {
          "output_type": "stream",
          "name": "stdout",
          "text": [
            "  Customer_type  PurchaseFrequency\n",
            "0        Member                501\n",
            "1        Normal                499\n"
          ]
        }
      ]
    },
    {
      "cell_type": "code",
      "source": [
        "query = \"\"\"\n",
        "SELECT Customer_type, AVG(Total) AS AvgSpendingPerTransaction\n",
        "FROM SalesTable\n",
        "GROUP BY Customer_type\n",
        "ORDER BY AvgSpendingPerTransaction DESC;\n",
        "\"\"\"\n",
        "result = pd.read_sql(query, conn)\n",
        "print(result)\n"
      ],
      "metadata": {
        "colab": {
          "base_uri": "https://localhost:8080/"
        },
        "id": "CYk7KG3bhsS1",
        "outputId": "a19a7f48-7fe7-42a8-8297-3261fdd9c946"
      },
      "execution_count": 10,
      "outputs": [
        {
          "output_type": "stream",
          "name": "stdout",
          "text": [
            "  Customer_type  AvgSpendingPerTransaction\n",
            "0        Member                 327.791305\n",
            "1        Normal                 318.122856\n"
          ]
        }
      ]
    },
    {
      "cell_type": "code",
      "source": [
        "query = \"\"\"\n",
        "SELECT Customer_type, Product_line, COUNT(*) AS PurchaseCount\n",
        "FROM SalesTable\n",
        "GROUP BY Customer_type, Product_line\n",
        "ORDER BY Customer_type, PurchaseCount DESC;\n",
        "\"\"\"\n",
        "result = pd.read_sql(query, conn)\n",
        "print(result)\n"
      ],
      "metadata": {
        "colab": {
          "base_uri": "https://localhost:8080/"
        },
        "id": "-sA1VwuphvNb",
        "outputId": "d4c2edcc-7274-48d0-9add-ec858652b7ac"
      },
      "execution_count": 11,
      "outputs": [
        {
          "output_type": "stream",
          "name": "stdout",
          "text": [
            "   Customer_type            Product_line  PurchaseCount\n",
            "0         Member      Food and beverages             94\n",
            "1         Member       Sports and travel             87\n",
            "2         Member     Fashion accessories             86\n",
            "3         Member      Home and lifestyle             83\n",
            "4         Member  Electronic accessories             78\n",
            "5         Member       Health and beauty             73\n",
            "6         Normal     Fashion accessories             92\n",
            "7         Normal  Electronic accessories             92\n",
            "8         Normal      Food and beverages             80\n",
            "9         Normal       Sports and travel             79\n",
            "10        Normal       Health and beauty             79\n",
            "11        Normal      Home and lifestyle             77\n"
          ]
        }
      ]
    }
  ]
}